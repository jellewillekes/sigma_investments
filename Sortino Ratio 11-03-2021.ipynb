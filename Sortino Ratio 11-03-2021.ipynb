{
 "cells": [
  {
   "cell_type": "markdown",
   "id": "expired-virginia",
   "metadata": {},
   "source": [
    "# Sortino ratio optimisation with risk budgetting\n",
    "\n",
    "The objective of this program is to maximise the Sortino ratio of the portfolio such that all stocks have a weight allocation of at least min_weight and a maximum weight allocation of max_weight. Moreover, each stock cannot have more than an x percentage contribution to the total portfolio volatility. \n",
    "\n",
    "The package scipy.optimize can only minimise the objective function. Hence, the negative Sortino Ratio is minimised. "
   ]
  },
  {
   "cell_type": "markdown",
   "id": "coral-iraqi",
   "metadata": {},
   "source": [
    "## Definition Sortino ratio\n",
    "The Sortino ratio is a measure that uses a risk-adjusted return measure based on downside risk. This differs from the Sharpe ratio, as this measure makes use of the total (positive and negative) volatility. The Sortino ratio is calculated in the following way:\n",
    "\n",
    "$ \\text{Sortino ratio} = \\frac{R_p-B}{\\sigma_d} $ \\\n",
    " Where $R_p$: portfolio return \\\n",
    "$\\hspace{1cm}$  $B$: benchmark \\\n",
    "$\\hspace{1cm}$  $\\sigma_d$: downside risk of the portfolio. \n",
    "\n"
   ]
  },
  {
   "cell_type": "markdown",
   "id": "mature-studio",
   "metadata": {},
   "source": [
    "## Downside risk // semi deviation w.r.t. B\n",
    "\n",
    "Variance of a stock A: $\\sigma^2_A=\\frac{1}{T} \\sum_{t=1}^T (min\\{R^{A}_t-B,0\\})^2$\n",
    "\n",
    "Covariance of stocks A and C: $\\sigma_A\\sigma_C=\\frac{1}{T} \\sum_{t=1}^T min\\{R^{A}_t-B,0\\}*min\\{R^{C}_t-B,0\\}$"
   ]
  },
  {
   "cell_type": "code",
   "execution_count": 160,
   "id": "assisted-spain",
   "metadata": {},
   "outputs": [],
   "source": [
    "import pandas as pd   \n",
    "import numpy as np\n",
    "import matplotlib.pyplot as plt\n",
    "import pandas_datareader as dr \n",
    "from datetime import datetime\n",
    "from scipy.optimize import minimize "
   ]
  },
  {
   "cell_type": "code",
   "execution_count": 161,
   "id": "postal-drinking",
   "metadata": {},
   "outputs": [],
   "source": [
    "# packages installation anaconda + version used\n",
    " # conda install pandas=1.2.2\n",
    " # conda install pandas-datareader=0.9.0\n",
    " # conda install scipy=1.6.1\n",
    " # conda install openpyxl=3.0.6"
   ]
  },
  {
   "cell_type": "markdown",
   "id": "quarterly-glasgow",
   "metadata": {},
   "source": [
    "### Predefined values"
   ]
  },
  {
   "cell_type": "code",
   "execution_count": 162,
   "id": "hawaiian-judge",
   "metadata": {},
   "outputs": [],
   "source": [
    "benchmark = 0.01\n",
    "min_weight = 0.025\n",
    "max_weight = 1\n",
    "max_risk_contribution = 0.40"
   ]
  },
  {
   "cell_type": "markdown",
   "id": "foreign-stamp",
   "metadata": {},
   "source": [
    "### Data preprocessing "
   ]
  },
  {
   "cell_type": "code",
   "execution_count": 163,
   "id": "ignored-hopkins",
   "metadata": {},
   "outputs": [],
   "source": [
    "# Initialize Input Data\n",
    "start_date = '2017-01-01'\n",
    "today = datetime.today().strftime('%Y-%m-%d')\n",
    "#assets = pd.read_excel ('SigmaInput.xlsx')[\"Ticker\"]\n",
    "assets = [\"AD.AS\", \"BABA\",\"PVH\",]\n",
    "\n",
    "# Create df for adjusted close prices of portfolio\n",
    "prices = pd.DataFrame()\n",
    "\n",
    "for stock in assets:\n",
    "    prices[stock] = dr.data.get_data_yahoo(stock, start =start_date, end =today)['Adj Close']\n",
    "\n",
    "#Show the daily simple return\n",
    "returns = (prices/prices.shift(1))-1\n",
    "\n",
    "#return_stocks.to_excel('PortfolioReturns.xlsx')"
   ]
  },
  {
   "cell_type": "code",
   "execution_count": 164,
   "id": "shared-remains",
   "metadata": {},
   "outputs": [],
   "source": [
    "# Substract the benchmark returns from the stock returns and take the min{Rt-B, 0}\n",
    "step1 = returns - benchmark\n",
    "step1[step1 > 0] = 0"
   ]
  },
  {
   "cell_type": "code",
   "execution_count": 165,
   "id": "recent-belize",
   "metadata": {},
   "outputs": [
    {
     "data": {
      "text/html": [
       "<div>\n",
       "<style scoped>\n",
       "    .dataframe tbody tr th:only-of-type {\n",
       "        vertical-align: middle;\n",
       "    }\n",
       "\n",
       "    .dataframe tbody tr th {\n",
       "        vertical-align: top;\n",
       "    }\n",
       "\n",
       "    .dataframe thead th {\n",
       "        text-align: right;\n",
       "    }\n",
       "</style>\n",
       "<table border=\"1\" class=\"dataframe\">\n",
       "  <thead>\n",
       "    <tr style=\"text-align: right;\">\n",
       "      <th></th>\n",
       "      <th>AD.AS</th>\n",
       "      <th>BABA</th>\n",
       "      <th>PVH</th>\n",
       "    </tr>\n",
       "    <tr>\n",
       "      <th>Date</th>\n",
       "      <th></th>\n",
       "      <th></th>\n",
       "      <th></th>\n",
       "    </tr>\n",
       "  </thead>\n",
       "  <tbody>\n",
       "    <tr>\n",
       "      <th>2017-01-02</th>\n",
       "      <td>NaN</td>\n",
       "      <td>NaN</td>\n",
       "      <td>NaN</td>\n",
       "    </tr>\n",
       "    <tr>\n",
       "      <th>2017-01-03</th>\n",
       "      <td>-0.015729</td>\n",
       "      <td>NaN</td>\n",
       "      <td>NaN</td>\n",
       "    </tr>\n",
       "    <tr>\n",
       "      <th>2017-01-04</th>\n",
       "      <td>-0.015261</td>\n",
       "      <td>0.000000</td>\n",
       "      <td>0.000000</td>\n",
       "    </tr>\n",
       "    <tr>\n",
       "      <th>2017-01-05</th>\n",
       "      <td>-0.020073</td>\n",
       "      <td>0.000000</td>\n",
       "      <td>0.000000</td>\n",
       "    </tr>\n",
       "    <tr>\n",
       "      <th>2017-01-06</th>\n",
       "      <td>-0.012035</td>\n",
       "      <td>-0.015086</td>\n",
       "      <td>-0.011076</td>\n",
       "    </tr>\n",
       "    <tr>\n",
       "      <th>...</th>\n",
       "      <td>...</td>\n",
       "      <td>...</td>\n",
       "      <td>...</td>\n",
       "    </tr>\n",
       "    <tr>\n",
       "      <th>2021-03-05</th>\n",
       "      <td>0.000000</td>\n",
       "      <td>0.000000</td>\n",
       "      <td>0.000000</td>\n",
       "    </tr>\n",
       "    <tr>\n",
       "      <th>2021-03-08</th>\n",
       "      <td>-0.009555</td>\n",
       "      <td>-0.040784</td>\n",
       "      <td>0.000000</td>\n",
       "    </tr>\n",
       "    <tr>\n",
       "      <th>2021-03-09</th>\n",
       "      <td>-0.005556</td>\n",
       "      <td>0.000000</td>\n",
       "      <td>-0.034543</td>\n",
       "    </tr>\n",
       "    <tr>\n",
       "      <th>2021-03-10</th>\n",
       "      <td>0.000000</td>\n",
       "      <td>-0.026125</td>\n",
       "      <td>0.000000</td>\n",
       "    </tr>\n",
       "    <tr>\n",
       "      <th>2021-03-11</th>\n",
       "      <td>-0.012602</td>\n",
       "      <td>0.000000</td>\n",
       "      <td>-0.007248</td>\n",
       "    </tr>\n",
       "  </tbody>\n",
       "</table>\n",
       "<p>1071 rows × 3 columns</p>\n",
       "</div>"
      ],
      "text/plain": [
       "               AD.AS      BABA       PVH\n",
       "Date                                    \n",
       "2017-01-02       NaN       NaN       NaN\n",
       "2017-01-03 -0.015729       NaN       NaN\n",
       "2017-01-04 -0.015261  0.000000  0.000000\n",
       "2017-01-05 -0.020073  0.000000  0.000000\n",
       "2017-01-06 -0.012035 -0.015086 -0.011076\n",
       "...              ...       ...       ...\n",
       "2021-03-05  0.000000  0.000000  0.000000\n",
       "2021-03-08 -0.009555 -0.040784  0.000000\n",
       "2021-03-09 -0.005556  0.000000 -0.034543\n",
       "2021-03-10  0.000000 -0.026125  0.000000\n",
       "2021-03-11 -0.012602  0.000000 -0.007248\n",
       "\n",
       "[1071 rows x 3 columns]"
      ]
     },
     "execution_count": 165,
     "metadata": {},
     "output_type": "execute_result"
    }
   ],
   "source": [
    "step1"
   ]
  },
  {
   "cell_type": "code",
   "execution_count": 166,
   "id": "aerial-handbook",
   "metadata": {},
   "outputs": [
    {
     "name": "stdout",
     "output_type": "stream",
     "text": [
      "[[0.05928111 0.03967981 0.04962909]\n",
      " [0.03967981 0.10798102 0.07905007]\n",
      " [0.04962909 0.07905007 0.18740431]]\n"
     ]
    }
   ],
   "source": [
    "cov_matrix = covarianceMatrix(assets, step1)\n",
    "print(cov_matrix)"
   ]
  },
  {
   "cell_type": "markdown",
   "id": "organizational-filling",
   "metadata": {},
   "source": [
    "### Functions "
   ]
  },
  {
   "cell_type": "code",
   "execution_count": 167,
   "id": "popular-penalty",
   "metadata": {},
   "outputs": [],
   "source": [
    "def covariance(returnsA, returnsB):\n",
    "    # Multiply min{R_{ta}-B, 0}*min{R_{tc}-B, 0}\n",
    "    multiplication = returnsA*returnsB  \n",
    "    # Obtain T\n",
    "    t = multiplication.count()\n",
    "    # Sum over all t = {1,2,...,T}\n",
    "    summation = multiplication.sum(axis=0)\n",
    "    # Calculate downside variance and convert them to yearly values\n",
    "    downside_variance = 1/(t)*summation*252\n",
    "    return downside_variance"
   ]
  },
  {
   "cell_type": "code",
   "execution_count": 168,
   "id": "motivated-cheese",
   "metadata": {},
   "outputs": [],
   "source": [
    "def covarianceMatrix(assetlist, step1data):\n",
    "    covariance_matrix = np.zeros((len(assetlist), len(assetlist)))\n",
    "    \n",
    "    # loop for indices [0,n-2] -> all elements except [0][n-1], [n-1][0], [n-1][n-1], where n = len(assets)\n",
    "    for x in range(len(assetlist)-1):\n",
    "        # variance\n",
    "        covariance_matrix[x][x] = covariance(step1data[assetlist[x]], step1data[assetlist[x]])\n",
    "        # covariance\n",
    "        value = covariance(step1data[assetlist[x]], step1data[assetlist[x+1]])\n",
    "        covariance_matrix[x][x+1] = value\n",
    "        covariance_matrix[x+1][x] = value\n",
    "    \n",
    "    # Set missing values\n",
    "    index = len(assetlist) - 1\n",
    "    covariance_matrix[index][index] = covariance(step1data[assetlist[index]], step1data[assetlist[index]])\n",
    "    value = covariance(step1data[assetlist[index]], step1data[assetlist[0]])\n",
    "    covariance_matrix[0][index] = value\n",
    "    covariance_matrix[index][0] = value\n",
    "\n",
    "    return(covariance_matrix)"
   ]
  },
  {
   "cell_type": "code",
   "execution_count": 169,
   "id": "coordinate-nightmare",
   "metadata": {},
   "outputs": [],
   "source": [
    "# function to obtain portfolio-{return,volatility,sortino}\n",
    "def get_p_data(weights):\n",
    "        weights = np.array(weights)\n",
    "        p_return= np.sum(returns.mean()*weights) * 252 # Taken from the positive and negative returns -> still multiply  by 252\n",
    "        p_volatility = np.sqrt(np.dot(weights.T, np.dot(cov_matrix, weights))) # Takes the downside risk as a risk measure -> already multiplied by 252\n",
    "        p_sortino = (p_return-benchmark)/p_volatility \n",
    "        return np.array([p_return, p_volatility, p_sortino])\n",
    "\n",
    "def get_p_volatility(weights):\n",
    "        weights = np.array(weights)\n",
    "        p_volatility = np.sqrt(np.dot(weights.T, np.dot(cov_matrix, weights)))\n",
    "        return p_volatility"
   ]
  },
  {
   "cell_type": "code",
   "execution_count": 170,
   "id": "local-chorus",
   "metadata": {},
   "outputs": [],
   "source": [
    "# function to get the marginal volatilities \n",
    "def marginal_volatilities(weights, cov_matrix_np):\n",
    "    volatility_p = get_p_volatility(weights)\n",
    "    print(\"portfolio volatility = \", volatility_p )\n",
    "        \n",
    "    for i in range(len(weights)):\n",
    "        cov_weight_i = (weights[i] * np.dot(cov_matrix_np, weights)[i])/volatility_p \n",
    "        print(\"i = \", i , \"risk = \", cov_weight_i, \"  % = \", (cov_weight_i/volatility_p))"
   ]
  },
  {
   "cell_type": "code",
   "execution_count": 171,
   "id": "environmental-small",
   "metadata": {},
   "outputs": [],
   "source": [
    "# function to get negative Sortino Ratio.\n",
    "def negative_sortino(weights):\n",
    "        return get_p_data(weights)[2] * -1\n",
    "\n",
    "# function to check if sum investment is 1.\n",
    "def check_sum(weights):\n",
    "        return np.sum(weights) -1"
   ]
  },
  {
   "cell_type": "code",
   "execution_count": 172,
   "id": "engaging-opinion",
   "metadata": {},
   "outputs": [],
   "source": [
    "# args is defined as the tuple of arguments with first the max risk contribution and then the covariance matrix\n",
    "def risk_budget(weights, i, *args):\n",
    "    volatility_p = get_p_volatility(weights)\n",
    "    dot_product = np.dot(args[1], weights)\n",
    "    dot_product_value = np.take(dot_product, i)\n",
    "    q = args[0]*volatility_p - (weights[i]*dot_product_value/volatility_p)\n",
    "    return q"
   ]
  },
  {
   "cell_type": "markdown",
   "id": "varied-floating",
   "metadata": {},
   "source": [
    "### Optimisation"
   ]
  },
  {
   "cell_type": "code",
   "execution_count": 173,
   "id": "greater-irish",
   "metadata": {},
   "outputs": [],
   "source": [
    "# constraints\n",
    "constraints_list = list()\n",
    "\n",
    "#  sum investment is 1\n",
    "constraints_list.append({'type':'eq', 'fun':check_sum})\n",
    "\n",
    "# individual risk constributions\n",
    "a = list(range(len(assets)))\n",
    "for i in a:\n",
    "    constraints_list.append({'type':'ineq', 'fun': risk_budget, 'args':(i, max_risk_contribution, cov_matrix)})  \n",
    "\n",
    "constraints = tuple(constraints_list)"
   ]
  },
  {
   "cell_type": "code",
   "execution_count": 174,
   "id": "entitled-reader",
   "metadata": {},
   "outputs": [],
   "source": [
    "# Weight boundaries\n",
    "bounds = ((min_weight,max_weight),)*len(assets)\n",
    "\n",
    "# Equally weighted portfolio / starting point of Sequantial least Squares programming method.\n",
    "equally_weighted = [1/len(assets),]*len(assets)"
   ]
  },
  {
   "cell_type": "code",
   "execution_count": 175,
   "id": "moral-plasma",
   "metadata": {},
   "outputs": [],
   "source": [
    "# Optimisation method and results\n",
    "optimal_result = minimize(negative_sortino, equally_weighted, method='SLSQP', bounds=bounds, constraints = constraints)\n",
    "optimal_weights = optimal_result.x\n",
    "optimal_portfolio = get_p_data(optimal_result.x)\n",
    "\n",
    "optimal_return = np.round(optimal_portfolio[0],2)\n",
    "optimal_volatility = np.round(optimal_portfolio[1],2)\n",
    "optimal_sortino = np.round(optimal_portfolio[2],2)\n",
    "overview = pd.DataFrame({'Assets': assets,'Weight (%)': np.round(optimal_weights*100,2)}, columns=['Assets', 'Weight (%)']).T\n",
    "\n",
    "statistic = ['Number of Assets', 'Expected Return', 'Expected Volatility', 'Expected Sortino']\n",
    "data = [np.round(len(assets),0), optimal_return, optimal_volatility, optimal_sortino]\n",
    "table = pd.DataFrame(data, statistic)"
   ]
  },
  {
   "cell_type": "code",
   "execution_count": 176,
   "id": "naval-findings",
   "metadata": {},
   "outputs": [
    {
     "name": "stdout",
     "output_type": "stream",
     "text": [
      "                0     1      2\n",
      "Assets      AD.AS  BABA    PVH\n",
      "Weight (%)  31.21  39.0  29.79\n",
      "                        0\n",
      "Number of Assets     3.00\n",
      "Expected Return      0.20\n",
      "Expected Volatility  0.28\n",
      "Expected Sortino     0.70\n"
     ]
    }
   ],
   "source": [
    "# Results\n",
    "print(overview)\n",
    "print(table)"
   ]
  },
  {
   "cell_type": "code",
   "execution_count": 177,
   "id": "congressional-plastic",
   "metadata": {},
   "outputs": [
    {
     "name": "stdout",
     "output_type": "stream",
     "text": [
      "portfolio volatility =  0.275841622820156\n",
      "i =  0 risk =  0.05516836215486263   % =  0.2000001362768644\n",
      "i =  1 risk =  0.11033666831336109   % =  0.40000006955186274\n",
      "i =  2 risk =  0.11033659235193224   % =  0.39999979417127274\n"
     ]
    }
   ],
   "source": [
    "marginal_volatilities(optimal_weights, cov_matrix)"
   ]
  }
 ],
 "metadata": {
  "kernelspec": {
   "display_name": "Python 3",
   "language": "python",
   "name": "python3"
  },
  "language_info": {
   "codemirror_mode": {
    "name": "ipython",
    "version": 3
   },
   "file_extension": ".py",
   "mimetype": "text/x-python",
   "name": "python",
   "nbconvert_exporter": "python",
   "pygments_lexer": "ipython3",
   "version": "3.7.9"
  }
 },
 "nbformat": 4,
 "nbformat_minor": 5
}
